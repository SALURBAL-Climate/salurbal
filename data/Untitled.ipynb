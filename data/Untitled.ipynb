{
 "cells": [
  {
   "cell_type": "code",
   "execution_count": 1,
   "metadata": {},
   "outputs": [],
   "source": [
    "import pandas as pd\n",
    "import more_itertools as mit"
   ]
  },
  {
   "cell_type": "code",
   "execution_count": 2,
   "metadata": {},
   "outputs": [],
   "source": [
    "pd.set_option( 'display.max_columns', 500 )"
   ]
  },
  {
   "cell_type": "code",
   "execution_count": 3,
   "metadata": {},
   "outputs": [],
   "source": [
    "nvos_profs = pd.read_excel( './nvos_profs.xlsx' )"
   ]
  },
  {
   "cell_type": "code",
   "execution_count": 4,
   "metadata": {},
   "outputs": [
    {
     "data": {
      "text/plain": [
       "(370, 7)"
      ]
     },
     "execution_count": 4,
     "metadata": {},
     "output_type": "execute_result"
    }
   ],
   "source": [
    "nvos_profs.shape"
   ]
  },
  {
   "cell_type": "code",
   "execution_count": 5,
   "metadata": {},
   "outputs": [
    {
     "data": {
      "text/html": [
       "<div>\n",
       "<style scoped>\n",
       "    .dataframe tbody tr th:only-of-type {\n",
       "        vertical-align: middle;\n",
       "    }\n",
       "\n",
       "    .dataframe tbody tr th {\n",
       "        vertical-align: top;\n",
       "    }\n",
       "\n",
       "    .dataframe thead th {\n",
       "        text-align: right;\n",
       "    }\n",
       "</style>\n",
       "<table border=\"1\" class=\"dataframe\">\n",
       "  <thead>\n",
       "    <tr style=\"text-align: right;\">\n",
       "      <th></th>\n",
       "      <th>SALID1</th>\n",
       "      <th>Country</th>\n",
       "      <th>L1Name</th>\n",
       "      <th>urb_l1admin</th>\n",
       "      <th>stt_l1admin</th>\n",
       "      <th>urb_l1ux</th>\n",
       "      <th>stt_l1ux</th>\n",
       "    </tr>\n",
       "  </thead>\n",
       "  <tbody>\n",
       "    <tr>\n",
       "      <th>0</th>\n",
       "      <td>101101</td>\n",
       "      <td>Argentina</td>\n",
       "      <td>Bahia Blanca</td>\n",
       "      <td>proximate stones</td>\n",
       "      <td>semi-hyperbolic grid</td>\n",
       "      <td>proximate stones</td>\n",
       "      <td>labyrinth</td>\n",
       "    </tr>\n",
       "    <tr>\n",
       "      <th>1</th>\n",
       "      <td>101103</td>\n",
       "      <td>Argentina</td>\n",
       "      <td>Mar del Plata</td>\n",
       "      <td>proximate inkblots</td>\n",
       "      <td>spiderweb</td>\n",
       "      <td>contiguous large inkblots</td>\n",
       "      <td>straight grid</td>\n",
       "    </tr>\n",
       "    <tr>\n",
       "      <th>2</th>\n",
       "      <td>101104</td>\n",
       "      <td>Argentina</td>\n",
       "      <td>San Nicolas de los Arroyos</td>\n",
       "      <td>proximate stones</td>\n",
       "      <td>semi-hyperbolic grid</td>\n",
       "      <td>contiguous pixels</td>\n",
       "      <td>labyrinth</td>\n",
       "    </tr>\n",
       "    <tr>\n",
       "      <th>3</th>\n",
       "      <td>101105</td>\n",
       "      <td>Argentina</td>\n",
       "      <td>Tandil</td>\n",
       "      <td>scattered pixels</td>\n",
       "      <td>labyrinth</td>\n",
       "      <td>contiguous pixels</td>\n",
       "      <td>labyrinth</td>\n",
       "    </tr>\n",
       "    <tr>\n",
       "      <th>4</th>\n",
       "      <td>101106</td>\n",
       "      <td>Argentina</td>\n",
       "      <td>Catamarca</td>\n",
       "      <td>proximate stones</td>\n",
       "      <td>semi-hyperbolic grid</td>\n",
       "      <td>proximate stones</td>\n",
       "      <td>straight grid</td>\n",
       "    </tr>\n",
       "  </tbody>\n",
       "</table>\n",
       "</div>"
      ],
      "text/plain": [
       "   SALID1    Country                      L1Name         urb_l1admin  \\\n",
       "0  101101  Argentina                Bahia Blanca    proximate stones   \n",
       "1  101103  Argentina               Mar del Plata  proximate inkblots   \n",
       "2  101104  Argentina  San Nicolas de los Arroyos    proximate stones   \n",
       "3  101105  Argentina                      Tandil    scattered pixels   \n",
       "4  101106  Argentina                   Catamarca    proximate stones   \n",
       "\n",
       "            stt_l1admin                   urb_l1ux       stt_l1ux  \n",
       "0  semi-hyperbolic grid           proximate stones      labyrinth  \n",
       "1             spiderweb  contiguous large inkblots  straight grid  \n",
       "2  semi-hyperbolic grid          contiguous pixels      labyrinth  \n",
       "3             labyrinth          contiguous pixels      labyrinth  \n",
       "4  semi-hyperbolic grid           proximate stones  straight grid  "
      ]
     },
     "execution_count": 5,
     "metadata": {},
     "output_type": "execute_result"
    }
   ],
   "source": [
    "nvos_profs.head()"
   ]
  },
  {
   "cell_type": "code",
   "execution_count": 6,
   "metadata": {},
   "outputs": [
    {
     "data": {
      "text/plain": [
       "[{'index': 1, 'prof': 'proximate stones', 'count': 168},\n",
       " {'index': 2, 'prof': 'scattered pixels', 'count': 91},\n",
       " {'index': 3, 'prof': 'proximate inkblots', 'count': 90},\n",
       " {'index': 4, 'prof': 'contiguous large inkblots', 'count': 21}]"
      ]
     },
     "execution_count": 6,
     "metadata": {},
     "output_type": "execute_result"
    }
   ],
   "source": [
    "l1Admin_urban_prof = nvos_profs[ 'urb_l1admin' ].value_counts().rename_axis( 'prof' ).reset_index( name = 'count' ).reset_index()\n",
    "l1Admin_urban_prof[ 'index' ] = l1Admin_urban_prof[ 'index' ] + 1 \n",
    "l1Admin_urban_prof = l1Admin_urban_prof.to_dict( orient = 'records' )\n",
    "l1Admin_urban_prof"
   ]
  },
  {
   "cell_type": "code",
   "execution_count": 7,
   "metadata": {},
   "outputs": [
    {
     "data": {
      "text/plain": [
       "[{'index': 1, 'prof': 'semi-hyperbolic grid', 'count': 130},\n",
       " {'index': 2, 'prof': 'labyrinth', 'count': 110},\n",
       " {'index': 3, 'prof': 'spiderweb', 'count': 80},\n",
       " {'index': 4, 'prof': 'hyperbolic grid', 'count': 50}]"
      ]
     },
     "execution_count": 7,
     "metadata": {},
     "output_type": "execute_result"
    }
   ],
   "source": [
    "l1Admin_trans_prof = nvos_profs[ 'stt_l1admin' ].value_counts().rename_axis( 'prof' ).reset_index( name = 'count' ).reset_index()\n",
    "l1Admin_trans_prof[ 'index' ] = l1Admin_trans_prof[ 'index' ] + 1 \n",
    "l1Admin_trans_prof = l1Admin_trans_prof.to_dict( orient = 'records' )\n",
    "l1Admin_trans_prof"
   ]
  },
  {
   "cell_type": "code",
   "execution_count": 8,
   "metadata": {},
   "outputs": [
    {
     "data": {
      "text/plain": [
       "[{'index': 1, 'prof': 'contiguous pixels', 'count': 173},\n",
       " {'index': 2, 'prof': 'proximate stones', 'count': 110},\n",
       " {'index': 3, 'prof': 'contiguous large inkblots', 'count': 64},\n",
       " {'index': 4, 'prof': 'scattered large inkblots', 'count': 23}]"
      ]
     },
     "execution_count": 8,
     "metadata": {},
     "output_type": "execute_result"
    }
   ],
   "source": [
    "l1UX_urban_prof = nvos_profs[ 'urb_l1ux' ].value_counts().rename_axis( 'prof' ).reset_index( name = 'count' ).reset_index()\n",
    "l1UX_urban_prof[ 'index' ] = l1UX_urban_prof[ 'index' ] + 1 \n",
    "l1UX_urban_prof = l1UX_urban_prof.to_dict( orient = 'records' )\n",
    "l1UX_urban_prof"
   ]
  },
  {
   "cell_type": "code",
   "execution_count": 9,
   "metadata": {},
   "outputs": [
    {
     "data": {
      "text/plain": [
       "[{'index': 1, 'prof': 'semi-hyperbolic grid', 'count': 112},\n",
       " {'index': 2, 'prof': 'straight grid', 'count': 98},\n",
       " {'index': 3, 'prof': 'spiderweb', 'count': 69},\n",
       " {'index': 4, 'prof': 'labyrinth', 'count': 51},\n",
       " {'index': 5, 'prof': 'hyperbolic labyrinth', 'count': 40}]"
      ]
     },
     "execution_count": 9,
     "metadata": {},
     "output_type": "execute_result"
    }
   ],
   "source": [
    "l1ux_trans_prof = nvos_profs[ 'stt_l1ux' ].value_counts().rename_axis( 'prof' ).reset_index( name = 'count' ).reset_index()\n",
    "l1ux_trans_prof[ 'index' ] = l1ux_trans_prof[ 'index' ] + 1 \n",
    "l1ux_trans_prof = l1ux_trans_prof.to_dict( orient = 'records' )\n",
    "l1ux_trans_prof"
   ]
  },
  {
   "cell_type": "code",
   "execution_count": 10,
   "metadata": {},
   "outputs": [
    {
     "data": {
      "text/html": [
       "<div>\n",
       "<style scoped>\n",
       "    .dataframe tbody tr th:only-of-type {\n",
       "        vertical-align: middle;\n",
       "    }\n",
       "\n",
       "    .dataframe tbody tr th {\n",
       "        vertical-align: top;\n",
       "    }\n",
       "\n",
       "    .dataframe thead th {\n",
       "        text-align: right;\n",
       "    }\n",
       "</style>\n",
       "<table border=\"1\" class=\"dataframe\">\n",
       "  <thead>\n",
       "    <tr style=\"text-align: right;\">\n",
       "      <th></th>\n",
       "      <th>URBAN_PROF</th>\n",
       "      <th>TRANS_PROF</th>\n",
       "    </tr>\n",
       "  </thead>\n",
       "  <tbody>\n",
       "    <tr>\n",
       "      <th>0</th>\n",
       "      <td>1</td>\n",
       "      <td>1</td>\n",
       "    </tr>\n",
       "    <tr>\n",
       "      <th>1</th>\n",
       "      <td>3</td>\n",
       "      <td>3</td>\n",
       "    </tr>\n",
       "    <tr>\n",
       "      <th>2</th>\n",
       "      <td>1</td>\n",
       "      <td>1</td>\n",
       "    </tr>\n",
       "    <tr>\n",
       "      <th>3</th>\n",
       "      <td>2</td>\n",
       "      <td>2</td>\n",
       "    </tr>\n",
       "    <tr>\n",
       "      <th>4</th>\n",
       "      <td>1</td>\n",
       "      <td>1</td>\n",
       "    </tr>\n",
       "  </tbody>\n",
       "</table>\n",
       "</div>"
      ],
      "text/plain": [
       "   URBAN_PROF  TRANS_PROF\n",
       "0           1           1\n",
       "1           3           3\n",
       "2           1           1\n",
       "3           2           2\n",
       "4           1           1"
      ]
     },
     "execution_count": 10,
     "metadata": {},
     "output_type": "execute_result"
    }
   ],
   "source": [
    "l1Admin_profs = nvos_profs[ [ 'urb_l1admin', 'stt_l1admin' ] ].rename( columns = { 'urb_l1admin': 'URBAN_PROF', 'stt_l1admin': 'TRANS_PROF' } )\n",
    "l1Admin_profs[ 'URBAN_PROF' ] = l1Admin_profs[ 'URBAN_PROF' ].apply( lambda x: [ i for i in l1Admin_urban_prof if i[ 'prof' ] == x ][ 0 ][ 'index' ] )\n",
    "l1Admin_profs[ 'TRANS_PROF' ] = l1Admin_profs[ 'TRANS_PROF' ].apply( lambda x: [ i for i in l1Admin_trans_prof if i[ 'prof' ] == x ][ 0 ][ 'index' ] )\n",
    "l1Admin_profs.head()"
   ]
  },
  {
   "cell_type": "code",
   "execution_count": 11,
   "metadata": {},
   "outputs": [
    {
     "data": {
      "text/html": [
       "<div>\n",
       "<style scoped>\n",
       "    .dataframe tbody tr th:only-of-type {\n",
       "        vertical-align: middle;\n",
       "    }\n",
       "\n",
       "    .dataframe tbody tr th {\n",
       "        vertical-align: top;\n",
       "    }\n",
       "\n",
       "    .dataframe thead th {\n",
       "        text-align: right;\n",
       "    }\n",
       "</style>\n",
       "<table border=\"1\" class=\"dataframe\">\n",
       "  <thead>\n",
       "    <tr style=\"text-align: right;\">\n",
       "      <th></th>\n",
       "      <th>URBAN_PROF</th>\n",
       "      <th>TRANS_PROF</th>\n",
       "    </tr>\n",
       "  </thead>\n",
       "  <tbody>\n",
       "    <tr>\n",
       "      <th>0</th>\n",
       "      <td>2</td>\n",
       "      <td>4</td>\n",
       "    </tr>\n",
       "    <tr>\n",
       "      <th>1</th>\n",
       "      <td>3</td>\n",
       "      <td>2</td>\n",
       "    </tr>\n",
       "    <tr>\n",
       "      <th>2</th>\n",
       "      <td>1</td>\n",
       "      <td>4</td>\n",
       "    </tr>\n",
       "    <tr>\n",
       "      <th>3</th>\n",
       "      <td>1</td>\n",
       "      <td>4</td>\n",
       "    </tr>\n",
       "    <tr>\n",
       "      <th>4</th>\n",
       "      <td>2</td>\n",
       "      <td>2</td>\n",
       "    </tr>\n",
       "  </tbody>\n",
       "</table>\n",
       "</div>"
      ],
      "text/plain": [
       "   URBAN_PROF  TRANS_PROF\n",
       "0           2           4\n",
       "1           3           2\n",
       "2           1           4\n",
       "3           1           4\n",
       "4           2           2"
      ]
     },
     "execution_count": 11,
     "metadata": {},
     "output_type": "execute_result"
    }
   ],
   "source": [
    "l1UX_profs = nvos_profs[ [ 'urb_l1ux', 'stt_l1ux' ] ].rename( columns = { 'urb_l1ux': 'URBAN_PROF', 'stt_l1ux': 'TRANS_PROF' } )\n",
    "l1UX_profs[ 'URBAN_PROF' ] = l1UX_profs[ 'URBAN_PROF' ].apply( lambda x: [ i for i in l1UX_urban_prof if i[ 'prof' ] == x ][ 0 ][ 'index' ] )\n",
    "l1UX_profs[ 'TRANS_PROF' ] = l1UX_profs[ 'TRANS_PROF' ].apply( lambda x: [ i for i in l1ux_trans_prof if i[ 'prof' ] == x ][ 0 ][ 'index' ] )\n",
    "l1UX_profs.head()"
   ]
  },
  {
   "cell_type": "code",
   "execution_count": 14,
   "metadata": {},
   "outputs": [],
   "source": [
    "l1admin = pd.read_csv( './l1Admin_old.csv' )"
   ]
  },
  {
   "cell_type": "code",
   "execution_count": 16,
   "metadata": {},
   "outputs": [],
   "source": [
    "del l1admin[ 'URBAN_PROF' ]\n",
    "#del l1admin[ 'URBAN_PROB' ]\n",
    "del l1admin[ 'TRANS_PROF' ]\n",
    "#del l1admin[ 'TRANS_PROB' ]"
   ]
  },
  {
   "cell_type": "code",
   "execution_count": 17,
   "metadata": {},
   "outputs": [
    {
     "data": {
      "text/plain": [
       "(370, 26)"
      ]
     },
     "execution_count": 17,
     "metadata": {},
     "output_type": "execute_result"
    }
   ],
   "source": [
    "l1admin.shape"
   ]
  },
  {
   "cell_type": "code",
   "execution_count": 18,
   "metadata": {},
   "outputs": [],
   "source": [
    "l1admin = pd.concat( [ l1admin, l1Admin_profs ], axis = 1 )"
   ]
  },
  {
   "cell_type": "code",
   "execution_count": 19,
   "metadata": {},
   "outputs": [
    {
     "data": {
      "text/plain": [
       "(370, 28)"
      ]
     },
     "execution_count": 19,
     "metadata": {},
     "output_type": "execute_result"
    }
   ],
   "source": [
    "l1admin.shape"
   ]
  },
  {
   "cell_type": "code",
   "execution_count": 20,
   "metadata": {},
   "outputs": [
    {
     "data": {
      "text/html": [
       "<div>\n",
       "<style scoped>\n",
       "    .dataframe tbody tr th:only-of-type {\n",
       "        vertical-align: middle;\n",
       "    }\n",
       "\n",
       "    .dataframe tbody tr th {\n",
       "        vertical-align: top;\n",
       "    }\n",
       "\n",
       "    .dataframe thead th {\n",
       "        text-align: right;\n",
       "    }\n",
       "</style>\n",
       "<table border=\"1\" class=\"dataframe\">\n",
       "  <thead>\n",
       "    <tr style=\"text-align: right;\">\n",
       "      <th></th>\n",
       "      <th>L1</th>\n",
       "      <th>COUNTRY</th>\n",
       "      <th>BECNURBPTCH</th>\n",
       "      <th>BECPTCHDENS</th>\n",
       "      <th>BECEFFMESHSIZE</th>\n",
       "      <th>BECAWAVGPTCHAREA</th>\n",
       "      <th>BECAWMNSHPINDX</th>\n",
       "      <th>BECAWMNNNGH</th>\n",
       "      <th>BECADCRCTYAVG</th>\n",
       "      <th>BECADINTDENS</th>\n",
       "      <th>BECADSTTDENS</th>\n",
       "      <th>BECADSTTLGAVG</th>\n",
       "      <th>BECADSTTPNODEAVG</th>\n",
       "      <th>URBAN_PROB</th>\n",
       "      <th>TRANS_PROB</th>\n",
       "      <th>LAT</th>\n",
       "      <th>LONG</th>\n",
       "      <th>SECPOV</th>\n",
       "      <th>AREA</th>\n",
       "      <th>POP</th>\n",
       "      <th>CNSMINPRM</th>\n",
       "      <th>CNSMINPRF</th>\n",
       "      <th>CNSUNEMPLM</th>\n",
       "      <th>CNSUNEMPLF</th>\n",
       "      <th>BRT</th>\n",
       "      <th>SUBWAY</th>\n",
       "      <th>URBAN_PROF</th>\n",
       "      <th>TRANS_PROF</th>\n",
       "    </tr>\n",
       "  </thead>\n",
       "  <tbody>\n",
       "    <tr>\n",
       "      <th>0</th>\n",
       "      <td>Bahia Blanca</td>\n",
       "      <td>Argentina</td>\n",
       "      <td>487</td>\n",
       "      <td>0.2131</td>\n",
       "      <td>77.6331</td>\n",
       "      <td>2644.8505</td>\n",
       "      <td>5.1337</td>\n",
       "      <td>76.6488</td>\n",
       "      <td>1.032771</td>\n",
       "      <td>3.670737</td>\n",
       "      <td>938.436474</td>\n",
       "      <td>142.777309</td>\n",
       "      <td>3.411745</td>\n",
       "      <td>0.999</td>\n",
       "      <td>0.979105</td>\n",
       "      <td>-38.725272</td>\n",
       "      <td>-62.274060</td>\n",
       "      <td>0.0</td>\n",
       "      <td>6709.0581</td>\n",
       "      <td>304207.0</td>\n",
       "      <td>83.488717</td>\n",
       "      <td>81.667940</td>\n",
       "      <td>4.983076</td>\n",
       "      <td>8.192796</td>\n",
       "      <td>0</td>\n",
       "      <td>0</td>\n",
       "      <td>1</td>\n",
       "      <td>1</td>\n",
       "    </tr>\n",
       "    <tr>\n",
       "      <th>1</th>\n",
       "      <td>Mar del Plata</td>\n",
       "      <td>Argentina</td>\n",
       "      <td>765</td>\n",
       "      <td>0.5311</td>\n",
       "      <td>601.5286</td>\n",
       "      <td>8368.3755</td>\n",
       "      <td>6.7311</td>\n",
       "      <td>68.6631</td>\n",
       "      <td>1.021756</td>\n",
       "      <td>10.801749</td>\n",
       "      <td>2583.854577</td>\n",
       "      <td>130.072799</td>\n",
       "      <td>3.505520</td>\n",
       "      <td>1.000</td>\n",
       "      <td>0.967662</td>\n",
       "      <td>-37.979858</td>\n",
       "      <td>-57.589794</td>\n",
       "      <td>0.0</td>\n",
       "      <td>10352.8980</td>\n",
       "      <td>624389.0</td>\n",
       "      <td>80.214732</td>\n",
       "      <td>79.774735</td>\n",
       "      <td>4.674092</td>\n",
       "      <td>8.798723</td>\n",
       "      <td>0</td>\n",
       "      <td>0</td>\n",
       "      <td>3</td>\n",
       "      <td>3</td>\n",
       "    </tr>\n",
       "    <tr>\n",
       "      <th>2</th>\n",
       "      <td>San Nicolas de los Arroyos</td>\n",
       "      <td>Argentina</td>\n",
       "      <td>166</td>\n",
       "      <td>0.2456</td>\n",
       "      <td>57.7036</td>\n",
       "      <td>1353.3899</td>\n",
       "      <td>4.0292</td>\n",
       "      <td>79.5763</td>\n",
       "      <td>1.028876</td>\n",
       "      <td>4.375523</td>\n",
       "      <td>1140.411408</td>\n",
       "      <td>142.470201</td>\n",
       "      <td>3.211101</td>\n",
       "      <td>1.000</td>\n",
       "      <td>0.986346</td>\n",
       "      <td>-33.345709</td>\n",
       "      <td>-60.218394</td>\n",
       "      <td>0.0</td>\n",
       "      <td>2881.4446</td>\n",
       "      <td>146973.0</td>\n",
       "      <td>85.215860</td>\n",
       "      <td>81.403756</td>\n",
       "      <td>5.385563</td>\n",
       "      <td>9.153359</td>\n",
       "      <td>0</td>\n",
       "      <td>0</td>\n",
       "      <td>1</td>\n",
       "      <td>1</td>\n",
       "    </tr>\n",
       "    <tr>\n",
       "      <th>3</th>\n",
       "      <td>Tandil</td>\n",
       "      <td>Argentina</td>\n",
       "      <td>491</td>\n",
       "      <td>0.1011</td>\n",
       "      <td>8.7144</td>\n",
       "      <td>1556.2258</td>\n",
       "      <td>3.9911</td>\n",
       "      <td>126.0122</td>\n",
       "      <td>1.066892</td>\n",
       "      <td>0.707934</td>\n",
       "      <td>402.611416</td>\n",
       "      <td>327.999118</td>\n",
       "      <td>3.238615</td>\n",
       "      <td>0.999</td>\n",
       "      <td>0.999981</td>\n",
       "      <td>-37.316665</td>\n",
       "      <td>-59.150001</td>\n",
       "      <td>0.0</td>\n",
       "      <td>2719.3544</td>\n",
       "      <td>124628.0</td>\n",
       "      <td>84.458245</td>\n",
       "      <td>83.073683</td>\n",
       "      <td>4.480337</td>\n",
       "      <td>7.920224</td>\n",
       "      <td>0</td>\n",
       "      <td>0</td>\n",
       "      <td>2</td>\n",
       "      <td>2</td>\n",
       "    </tr>\n",
       "    <tr>\n",
       "      <th>4</th>\n",
       "      <td>Catamarca</td>\n",
       "      <td>Argentina</td>\n",
       "      <td>250</td>\n",
       "      <td>0.2131</td>\n",
       "      <td>87.3944</td>\n",
       "      <td>2196.9427</td>\n",
       "      <td>4.7825</td>\n",
       "      <td>72.2277</td>\n",
       "      <td>1.048575</td>\n",
       "      <td>5.392896</td>\n",
       "      <td>1115.701114</td>\n",
       "      <td>116.078141</td>\n",
       "      <td>3.191040</td>\n",
       "      <td>1.000</td>\n",
       "      <td>0.992720</td>\n",
       "      <td>-28.466001</td>\n",
       "      <td>-65.781000</td>\n",
       "      <td>0.0</td>\n",
       "      <td>4666.5000</td>\n",
       "      <td>203972.0</td>\n",
       "      <td>81.756466</td>\n",
       "      <td>82.192590</td>\n",
       "      <td>5.057125</td>\n",
       "      <td>10.206447</td>\n",
       "      <td>0</td>\n",
       "      <td>0</td>\n",
       "      <td>1</td>\n",
       "      <td>1</td>\n",
       "    </tr>\n",
       "  </tbody>\n",
       "</table>\n",
       "</div>"
      ],
      "text/plain": [
       "                           L1    COUNTRY  BECNURBPTCH  BECPTCHDENS  \\\n",
       "0                Bahia Blanca  Argentina          487       0.2131   \n",
       "1               Mar del Plata  Argentina          765       0.5311   \n",
       "2  San Nicolas de los Arroyos  Argentina          166       0.2456   \n",
       "3                      Tandil  Argentina          491       0.1011   \n",
       "4                   Catamarca  Argentina          250       0.2131   \n",
       "\n",
       "   BECEFFMESHSIZE  BECAWAVGPTCHAREA  BECAWMNSHPINDX  BECAWMNNNGH  \\\n",
       "0         77.6331         2644.8505          5.1337      76.6488   \n",
       "1        601.5286         8368.3755          6.7311      68.6631   \n",
       "2         57.7036         1353.3899          4.0292      79.5763   \n",
       "3          8.7144         1556.2258          3.9911     126.0122   \n",
       "4         87.3944         2196.9427          4.7825      72.2277   \n",
       "\n",
       "   BECADCRCTYAVG  BECADINTDENS  BECADSTTDENS  BECADSTTLGAVG  BECADSTTPNODEAVG  \\\n",
       "0       1.032771      3.670737    938.436474     142.777309          3.411745   \n",
       "1       1.021756     10.801749   2583.854577     130.072799          3.505520   \n",
       "2       1.028876      4.375523   1140.411408     142.470201          3.211101   \n",
       "3       1.066892      0.707934    402.611416     327.999118          3.238615   \n",
       "4       1.048575      5.392896   1115.701114     116.078141          3.191040   \n",
       "\n",
       "   URBAN_PROB  TRANS_PROB        LAT       LONG  SECPOV        AREA       POP  \\\n",
       "0       0.999    0.979105 -38.725272 -62.274060     0.0   6709.0581  304207.0   \n",
       "1       1.000    0.967662 -37.979858 -57.589794     0.0  10352.8980  624389.0   \n",
       "2       1.000    0.986346 -33.345709 -60.218394     0.0   2881.4446  146973.0   \n",
       "3       0.999    0.999981 -37.316665 -59.150001     0.0   2719.3544  124628.0   \n",
       "4       1.000    0.992720 -28.466001 -65.781000     0.0   4666.5000  203972.0   \n",
       "\n",
       "   CNSMINPRM  CNSMINPRF  CNSUNEMPLM  CNSUNEMPLF  BRT  SUBWAY  URBAN_PROF  \\\n",
       "0  83.488717  81.667940    4.983076    8.192796    0       0           1   \n",
       "1  80.214732  79.774735    4.674092    8.798723    0       0           3   \n",
       "2  85.215860  81.403756    5.385563    9.153359    0       0           1   \n",
       "3  84.458245  83.073683    4.480337    7.920224    0       0           2   \n",
       "4  81.756466  82.192590    5.057125   10.206447    0       0           1   \n",
       "\n",
       "   TRANS_PROF  \n",
       "0           1  \n",
       "1           3  \n",
       "2           1  \n",
       "3           2  \n",
       "4           1  "
      ]
     },
     "execution_count": 20,
     "metadata": {},
     "output_type": "execute_result"
    }
   ],
   "source": [
    "l1admin.head()"
   ]
  },
  {
   "cell_type": "code",
   "execution_count": 21,
   "metadata": {},
   "outputs": [],
   "source": [
    "l1admin.to_csv( './l1Admin.csv', sep = ',', index = False )"
   ]
  },
  {
   "cell_type": "code",
   "execution_count": null,
   "metadata": {},
   "outputs": [],
   "source": [
    "l1ux = pd.read_csv( './l1UX.csv' )"
   ]
  },
  {
   "cell_type": "code",
   "execution_count": null,
   "metadata": {},
   "outputs": [],
   "source": [
    "del l1ux[ 'URBAN_PROF' ]\n",
    "del l1ux[ 'URBAN_PROB' ]\n",
    "del l1ux[ 'TRANS_PROF' ]\n",
    "del l1ux[ 'TRANS_PROB' ]"
   ]
  },
  {
   "cell_type": "code",
   "execution_count": null,
   "metadata": {},
   "outputs": [],
   "source": [
    "l1ux.shape"
   ]
  },
  {
   "cell_type": "code",
   "execution_count": null,
   "metadata": {},
   "outputs": [],
   "source": [
    "l1ux = pd.concat( [ l1ux, l1UX_profs ], axis = 1 )"
   ]
  },
  {
   "cell_type": "code",
   "execution_count": null,
   "metadata": {},
   "outputs": [],
   "source": [
    "l1ux.shape"
   ]
  },
  {
   "cell_type": "code",
   "execution_count": null,
   "metadata": {},
   "outputs": [],
   "source": [
    "l1ux.to_csv( './l1UX.csv', sep = ',', index = False )"
   ]
  },
  {
   "cell_type": "code",
   "execution_count": null,
   "metadata": {},
   "outputs": [],
   "source": []
  }
 ],
 "metadata": {
  "kernelspec": {
   "display_name": "Python 3",
   "language": "python",
   "name": "python3"
  },
  "language_info": {
   "codemirror_mode": {
    "name": "ipython",
    "version": 3
   },
   "file_extension": ".py",
   "mimetype": "text/x-python",
   "name": "python",
   "nbconvert_exporter": "python",
   "pygments_lexer": "ipython3",
   "version": "3.7.3"
  }
 },
 "nbformat": 4,
 "nbformat_minor": 4
}
