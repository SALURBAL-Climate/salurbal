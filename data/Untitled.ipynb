{
 "cells": [
  {
   "cell_type": "code",
   "execution_count": 50,
   "metadata": {},
   "outputs": [],
   "source": [
    "import pandas as pd\n",
    "import more_itertools as mit"
   ]
  },
  {
   "cell_type": "code",
   "execution_count": 10,
   "metadata": {},
   "outputs": [],
   "source": [
    "pd.set_option( 'display.max_columns', 500 )"
   ]
  },
  {
   "cell_type": "code",
   "execution_count": 2,
   "metadata": {},
   "outputs": [],
   "source": [
    "nvos_profs = pd.read_excel( './nvos_profs.xlsx' )"
   ]
  },
  {
   "cell_type": "code",
   "execution_count": 21,
   "metadata": {},
   "outputs": [
    {
     "data": {
      "text/plain": [
       "(370, 7)"
      ]
     },
     "execution_count": 21,
     "metadata": {},
     "output_type": "execute_result"
    }
   ],
   "source": [
    "nvos_profs.shape"
   ]
  },
  {
   "cell_type": "code",
   "execution_count": 23,
   "metadata": {},
   "outputs": [
    {
     "data": {
      "text/html": [
       "<div>\n",
       "<style scoped>\n",
       "    .dataframe tbody tr th:only-of-type {\n",
       "        vertical-align: middle;\n",
       "    }\n",
       "\n",
       "    .dataframe tbody tr th {\n",
       "        vertical-align: top;\n",
       "    }\n",
       "\n",
       "    .dataframe thead th {\n",
       "        text-align: right;\n",
       "    }\n",
       "</style>\n",
       "<table border=\"1\" class=\"dataframe\">\n",
       "  <thead>\n",
       "    <tr style=\"text-align: right;\">\n",
       "      <th></th>\n",
       "      <th>SALID1</th>\n",
       "      <th>Country</th>\n",
       "      <th>L1Name</th>\n",
       "      <th>urb_l1admin</th>\n",
       "      <th>stt_l1admin</th>\n",
       "      <th>urb_l1ux</th>\n",
       "      <th>stt_l1ux</th>\n",
       "    </tr>\n",
       "  </thead>\n",
       "  <tbody>\n",
       "    <tr>\n",
       "      <th>0</th>\n",
       "      <td>101101</td>\n",
       "      <td>Argentina</td>\n",
       "      <td>Bahia Blanca</td>\n",
       "      <td>proximate stones</td>\n",
       "      <td>semi-hyperbolic grid</td>\n",
       "      <td>proximate stones</td>\n",
       "      <td>labyrinth</td>\n",
       "    </tr>\n",
       "    <tr>\n",
       "      <th>1</th>\n",
       "      <td>101103</td>\n",
       "      <td>Argentina</td>\n",
       "      <td>Mar del Plata</td>\n",
       "      <td>proximate inkblots</td>\n",
       "      <td>spiderweb</td>\n",
       "      <td>contiguous large inkblots</td>\n",
       "      <td>straight grid</td>\n",
       "    </tr>\n",
       "    <tr>\n",
       "      <th>2</th>\n",
       "      <td>101104</td>\n",
       "      <td>Argentina</td>\n",
       "      <td>San Nicolas de los Arroyos</td>\n",
       "      <td>proximate stones</td>\n",
       "      <td>semi-hyperbolic grid</td>\n",
       "      <td>contiguous pixels</td>\n",
       "      <td>labyrinth</td>\n",
       "    </tr>\n",
       "    <tr>\n",
       "      <th>3</th>\n",
       "      <td>101105</td>\n",
       "      <td>Argentina</td>\n",
       "      <td>Tandil</td>\n",
       "      <td>scattered pixels</td>\n",
       "      <td>labyrinth</td>\n",
       "      <td>contiguous pixels</td>\n",
       "      <td>labyrinth</td>\n",
       "    </tr>\n",
       "    <tr>\n",
       "      <th>4</th>\n",
       "      <td>101106</td>\n",
       "      <td>Argentina</td>\n",
       "      <td>Catamarca</td>\n",
       "      <td>proximate stones</td>\n",
       "      <td>semi-hyperbolic grid</td>\n",
       "      <td>proximate stones</td>\n",
       "      <td>straight grid</td>\n",
       "    </tr>\n",
       "  </tbody>\n",
       "</table>\n",
       "</div>"
      ],
      "text/plain": [
       "   SALID1    Country                      L1Name         urb_l1admin  \\\n",
       "0  101101  Argentina                Bahia Blanca    proximate stones   \n",
       "1  101103  Argentina               Mar del Plata  proximate inkblots   \n",
       "2  101104  Argentina  San Nicolas de los Arroyos    proximate stones   \n",
       "3  101105  Argentina                      Tandil    scattered pixels   \n",
       "4  101106  Argentina                   Catamarca    proximate stones   \n",
       "\n",
       "            stt_l1admin                   urb_l1ux       stt_l1ux  \n",
       "0  semi-hyperbolic grid           proximate stones      labyrinth  \n",
       "1             spiderweb  contiguous large inkblots  straight grid  \n",
       "2  semi-hyperbolic grid          contiguous pixels      labyrinth  \n",
       "3             labyrinth          contiguous pixels      labyrinth  \n",
       "4  semi-hyperbolic grid           proximate stones  straight grid  "
      ]
     },
     "execution_count": 23,
     "metadata": {},
     "output_type": "execute_result"
    }
   ],
   "source": [
    "nvos_profs.head()"
   ]
  },
  {
   "cell_type": "code",
   "execution_count": 55,
   "metadata": {},
   "outputs": [
    {
     "data": {
      "text/plain": [
       "[{'index': 1, 'prof': 'proximate stones', 'count': 168},\n",
       " {'index': 2, 'prof': 'scattered pixels', 'count': 91},\n",
       " {'index': 3, 'prof': 'proximate inkblots', 'count': 90},\n",
       " {'index': 4, 'prof': 'contiguous large inkblots', 'count': 21}]"
      ]
     },
     "execution_count": 55,
     "metadata": {},
     "output_type": "execute_result"
    }
   ],
   "source": [
    "l1Admin_urban_prof = nvos_profs[ 'urb_l1admin' ].value_counts().rename_axis( 'prof' ).reset_index( name = 'count' ).reset_index()\n",
    "l1Admin_urban_prof[ 'index' ] = l1Admin_urban_prof[ 'index' ] + 1 \n",
    "l1Admin_urban_prof = l1Admin_urban_prof.to_dict( orient = 'records' )\n",
    "l1Admin_urban_prof"
   ]
  },
  {
   "cell_type": "code",
   "execution_count": 67,
   "metadata": {
    "collapsed": true,
    "jupyter": {
     "outputs_hidden": true
    }
   },
   "outputs": [
    {
     "data": {
      "text/plain": [
       "[{'index': 1, 'prof': 'semi-hyperbolic grid', 'count': 130},\n",
       " {'index': 2, 'prof': 'labyrinth', 'count': 110},\n",
       " {'index': 3, 'prof': 'spiderweb', 'count': 80},\n",
       " {'index': 4, 'prof': 'hyperbolic grid', 'count': 50}]"
      ]
     },
     "execution_count": 67,
     "metadata": {},
     "output_type": "execute_result"
    }
   ],
   "source": [
    "l1Admin_trans_prof = nvos_profs[ 'stt_l1admin' ].value_counts().rename_axis( 'prof' ).reset_index( name = 'count' ).reset_index()\n",
    "l1Admin_trans_prof[ 'index' ] = l1Admin_trans_prof[ 'index' ] + 1 \n",
    "l1Admin_trans_prof = l1Admin_trans_prof.to_dict( orient = 'records' )\n",
    "l1Admin_trans_prof"
   ]
  },
  {
   "cell_type": "code",
   "execution_count": 68,
   "metadata": {},
   "outputs": [
    {
     "data": {
      "text/plain": [
       "[{'index': 1, 'prof': 'contiguous pixels', 'count': 173},\n",
       " {'index': 2, 'prof': 'proximate stones', 'count': 110},\n",
       " {'index': 3, 'prof': 'contiguous large inkblots', 'count': 64},\n",
       " {'index': 4, 'prof': 'scattered large inkblots', 'count': 23}]"
      ]
     },
     "execution_count": 68,
     "metadata": {},
     "output_type": "execute_result"
    }
   ],
   "source": [
    "l1UX_urban_prof = nvos_profs[ 'urb_l1ux' ].value_counts().rename_axis( 'prof' ).reset_index( name = 'count' ).reset_index()\n",
    "l1UX_urban_prof[ 'index' ] = l1UX_urban_prof[ 'index' ] + 1 \n",
    "l1UX_urban_prof = l1UX_urban_prof.to_dict( orient = 'records' )\n",
    "l1UX_urban_prof"
   ]
  },
  {
   "cell_type": "code",
   "execution_count": 69,
   "metadata": {
    "collapsed": true,
    "jupyter": {
     "outputs_hidden": true
    }
   },
   "outputs": [
    {
     "data": {
      "text/plain": [
       "[{'index': 1, 'prof': 'semi-hyperbolic grid', 'count': 112},\n",
       " {'index': 2, 'prof': 'straight grid', 'count': 98},\n",
       " {'index': 3, 'prof': 'spiderweb', 'count': 69},\n",
       " {'index': 4, 'prof': 'labyrinth', 'count': 51},\n",
       " {'index': 5, 'prof': 'hyperbolic labyrinth', 'count': 40}]"
      ]
     },
     "execution_count": 69,
     "metadata": {},
     "output_type": "execute_result"
    }
   ],
   "source": [
    "l1ux_trans_prof = nvos_profs[ 'stt_l1ux' ].value_counts().rename_axis( 'prof' ).reset_index( name = 'count' ).reset_index()\n",
    "l1ux_trans_prof[ 'index' ] = l1ux_trans_prof[ 'index' ] + 1 \n",
    "l1ux_trans_prof = l1ux_trans_prof.to_dict( orient = 'records' )\n",
    "l1ux_trans_prof"
   ]
  },
  {
   "cell_type": "code",
   "execution_count": 72,
   "metadata": {},
   "outputs": [
    {
     "data": {
      "text/html": [
       "<div>\n",
       "<style scoped>\n",
       "    .dataframe tbody tr th:only-of-type {\n",
       "        vertical-align: middle;\n",
       "    }\n",
       "\n",
       "    .dataframe tbody tr th {\n",
       "        vertical-align: top;\n",
       "    }\n",
       "\n",
       "    .dataframe thead th {\n",
       "        text-align: right;\n",
       "    }\n",
       "</style>\n",
       "<table border=\"1\" class=\"dataframe\">\n",
       "  <thead>\n",
       "    <tr style=\"text-align: right;\">\n",
       "      <th></th>\n",
       "      <th>URBAN_PROF</th>\n",
       "      <th>TRANS_PROF</th>\n",
       "    </tr>\n",
       "  </thead>\n",
       "  <tbody>\n",
       "    <tr>\n",
       "      <th>0</th>\n",
       "      <td>1</td>\n",
       "      <td>1</td>\n",
       "    </tr>\n",
       "    <tr>\n",
       "      <th>1</th>\n",
       "      <td>3</td>\n",
       "      <td>3</td>\n",
       "    </tr>\n",
       "    <tr>\n",
       "      <th>2</th>\n",
       "      <td>1</td>\n",
       "      <td>1</td>\n",
       "    </tr>\n",
       "    <tr>\n",
       "      <th>3</th>\n",
       "      <td>2</td>\n",
       "      <td>2</td>\n",
       "    </tr>\n",
       "    <tr>\n",
       "      <th>4</th>\n",
       "      <td>1</td>\n",
       "      <td>1</td>\n",
       "    </tr>\n",
       "  </tbody>\n",
       "</table>\n",
       "</div>"
      ],
      "text/plain": [
       "   URBAN_PROF  TRANS_PROF\n",
       "0           1           1\n",
       "1           3           3\n",
       "2           1           1\n",
       "3           2           2\n",
       "4           1           1"
      ]
     },
     "execution_count": 72,
     "metadata": {},
     "output_type": "execute_result"
    }
   ],
   "source": [
    "l1Admin_profs = nvos_profs[ [ 'urb_l1admin', 'stt_l1admin' ] ].rename( columns = { 'urb_l1admin': 'URBAN_PROF', 'stt_l1admin': 'TRANS_PROF' } )\n",
    "l1Admin_profs[ 'URBAN_PROF' ] = l1Admin_profs[ 'URBAN_PROF' ].apply( lambda x: [ i for i in l1Admin_urban_prof if i[ 'prof' ] == x ][ 0 ][ 'index' ] )\n",
    "l1Admin_profs[ 'TRANS_PROF' ] = l1Admin_profs[ 'TRANS_PROF' ].apply( lambda x: [ i for i in l1Admin_trans_prof if i[ 'prof' ] == x ][ 0 ][ 'index' ] )\n",
    "l1Admin_profs.head()"
   ]
  },
  {
   "cell_type": "code",
   "execution_count": 75,
   "metadata": {},
   "outputs": [
    {
     "data": {
      "text/html": [
       "<div>\n",
       "<style scoped>\n",
       "    .dataframe tbody tr th:only-of-type {\n",
       "        vertical-align: middle;\n",
       "    }\n",
       "\n",
       "    .dataframe tbody tr th {\n",
       "        vertical-align: top;\n",
       "    }\n",
       "\n",
       "    .dataframe thead th {\n",
       "        text-align: right;\n",
       "    }\n",
       "</style>\n",
       "<table border=\"1\" class=\"dataframe\">\n",
       "  <thead>\n",
       "    <tr style=\"text-align: right;\">\n",
       "      <th></th>\n",
       "      <th>URBAN_PROF</th>\n",
       "      <th>TRANS_PROF</th>\n",
       "    </tr>\n",
       "  </thead>\n",
       "  <tbody>\n",
       "    <tr>\n",
       "      <th>0</th>\n",
       "      <td>2</td>\n",
       "      <td>4</td>\n",
       "    </tr>\n",
       "    <tr>\n",
       "      <th>1</th>\n",
       "      <td>3</td>\n",
       "      <td>2</td>\n",
       "    </tr>\n",
       "    <tr>\n",
       "      <th>2</th>\n",
       "      <td>1</td>\n",
       "      <td>4</td>\n",
       "    </tr>\n",
       "    <tr>\n",
       "      <th>3</th>\n",
       "      <td>1</td>\n",
       "      <td>4</td>\n",
       "    </tr>\n",
       "    <tr>\n",
       "      <th>4</th>\n",
       "      <td>2</td>\n",
       "      <td>2</td>\n",
       "    </tr>\n",
       "  </tbody>\n",
       "</table>\n",
       "</div>"
      ],
      "text/plain": [
       "   URBAN_PROF  TRANS_PROF\n",
       "0           2           4\n",
       "1           3           2\n",
       "2           1           4\n",
       "3           1           4\n",
       "4           2           2"
      ]
     },
     "execution_count": 75,
     "metadata": {},
     "output_type": "execute_result"
    }
   ],
   "source": [
    "l1UX_profs = nvos_profs[ [ 'urb_l1ux', 'stt_l1ux' ] ].rename( columns = { 'urb_l1ux': 'URBAN_PROF', 'stt_l1ux': 'TRANS_PROF' } )\n",
    "l1UX_profs[ 'URBAN_PROF' ] = l1UX_profs[ 'URBAN_PROF' ].apply( lambda x: [ i for i in l1UX_urban_prof if i[ 'prof' ] == x ][ 0 ][ 'index' ] )\n",
    "l1UX_profs[ 'TRANS_PROF' ] = l1UX_profs[ 'TRANS_PROF' ].apply( lambda x: [ i for i in l1ux_trans_prof if i[ 'prof' ] == x ][ 0 ][ 'index' ] )\n",
    "l1UX_profs.head()"
   ]
  },
  {
   "cell_type": "code",
   "execution_count": 5,
   "metadata": {},
   "outputs": [],
   "source": [
    "l1admin = pd.read_csv( './l1Admin.csv' )"
   ]
  },
  {
   "cell_type": "code",
   "execution_count": 35,
   "metadata": {},
   "outputs": [],
   "source": [
    "del l1admin[ 'URBAN_PROF' ]\n",
    "del l1admin[ 'URBAN_PROB' ]\n",
    "del l1admin[ 'TRANS_PROF' ]\n",
    "del l1admin[ 'TRANS_PROB' ]"
   ]
  },
  {
   "cell_type": "code",
   "execution_count": 36,
   "metadata": {},
   "outputs": [
    {
     "data": {
      "text/plain": [
       "(370, 24)"
      ]
     },
     "execution_count": 36,
     "metadata": {},
     "output_type": "execute_result"
    }
   ],
   "source": [
    "l1admin.shape"
   ]
  },
  {
   "cell_type": "code",
   "execution_count": 80,
   "metadata": {},
   "outputs": [],
   "source": [
    "l1admin = pd.concat( [ l1admin, l1Admin_profs ], axis = 1 )"
   ]
  },
  {
   "cell_type": "code",
   "execution_count": 81,
   "metadata": {},
   "outputs": [
    {
     "data": {
      "text/plain": [
       "(370, 26)"
      ]
     },
     "execution_count": 81,
     "metadata": {},
     "output_type": "execute_result"
    }
   ],
   "source": [
    "l1admin.shape"
   ]
  },
  {
   "cell_type": "code",
   "execution_count": 87,
   "metadata": {},
   "outputs": [],
   "source": [
    "l1admin.to_csv( './l1Admin.csv', sep = ',', index = False )"
   ]
  },
  {
   "cell_type": "code",
   "execution_count": 82,
   "metadata": {},
   "outputs": [],
   "source": [
    "l1ux = pd.read_csv( './l1UX.csv' )"
   ]
  },
  {
   "cell_type": "code",
   "execution_count": 83,
   "metadata": {},
   "outputs": [],
   "source": [
    "del l1ux[ 'URBAN_PROF' ]\n",
    "del l1ux[ 'URBAN_PROB' ]\n",
    "del l1ux[ 'TRANS_PROF' ]\n",
    "del l1ux[ 'TRANS_PROB' ]"
   ]
  },
  {
   "cell_type": "code",
   "execution_count": 84,
   "metadata": {},
   "outputs": [
    {
     "data": {
      "text/plain": [
       "(370, 36)"
      ]
     },
     "execution_count": 84,
     "metadata": {},
     "output_type": "execute_result"
    }
   ],
   "source": [
    "l1ux.shape"
   ]
  },
  {
   "cell_type": "code",
   "execution_count": 85,
   "metadata": {},
   "outputs": [],
   "source": [
    "l1ux = pd.concat( [ l1ux, l1UX_profs ], axis = 1 )"
   ]
  },
  {
   "cell_type": "code",
   "execution_count": 86,
   "metadata": {},
   "outputs": [
    {
     "data": {
      "text/plain": [
       "(370, 38)"
      ]
     },
     "execution_count": 86,
     "metadata": {},
     "output_type": "execute_result"
    }
   ],
   "source": [
    "l1ux.shape"
   ]
  },
  {
   "cell_type": "code",
   "execution_count": 88,
   "metadata": {},
   "outputs": [],
   "source": [
    "l1ux.to_csv( './l1UX.csv', sep = ',', index = False )"
   ]
  },
  {
   "cell_type": "code",
   "execution_count": null,
   "metadata": {},
   "outputs": [],
   "source": []
  }
 ],
 "metadata": {
  "kernelspec": {
   "display_name": "Python 3",
   "language": "python",
   "name": "python3"
  },
  "language_info": {
   "codemirror_mode": {
    "name": "ipython",
    "version": 3
   },
   "file_extension": ".py",
   "mimetype": "text/x-python",
   "name": "python",
   "nbconvert_exporter": "python",
   "pygments_lexer": "ipython3",
   "version": "3.7.3"
  }
 },
 "nbformat": 4,
 "nbformat_minor": 4
}
