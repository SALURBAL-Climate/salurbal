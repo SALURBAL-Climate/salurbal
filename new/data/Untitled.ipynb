{
 "cells": [
  {
   "cell_type": "code",
   "execution_count": 3,
   "metadata": {},
   "outputs": [],
   "source": [
    "import pandas as pd\n",
    "import seaborn as sns\n",
    "%matplotlib inline"
   ]
  },
  {
   "cell_type": "code",
   "execution_count": 4,
   "metadata": {},
   "outputs": [],
   "source": [
    "l2 = pd.read_csv( 'l2.csv' )"
   ]
  },
  {
   "cell_type": "code",
   "execution_count": 6,
   "metadata": {},
   "outputs": [
    {
     "data": {
      "text/html": [
       "<div>\n",
       "<style scoped>\n",
       "    .dataframe tbody tr th:only-of-type {\n",
       "        vertical-align: middle;\n",
       "    }\n",
       "\n",
       "    .dataframe tbody tr th {\n",
       "        vertical-align: top;\n",
       "    }\n",
       "\n",
       "    .dataframe thead th {\n",
       "        text-align: right;\n",
       "    }\n",
       "</style>\n",
       "<table border=\"1\" class=\"dataframe\">\n",
       "  <thead>\n",
       "    <tr style=\"text-align: right;\">\n",
       "      <th></th>\n",
       "      <th>L1</th>\n",
       "      <th>L2</th>\n",
       "      <th>COUNTRY</th>\n",
       "      <th>BECNURBPTCH</th>\n",
       "      <th>BECPTCHDENS</th>\n",
       "      <th>BECEFFMESHSIZE</th>\n",
       "      <th>BECAWAVGPTCHAREA</th>\n",
       "      <th>BECAWMNSHPINDX</th>\n",
       "      <th>BECAWMNNNGH</th>\n",
       "      <th>BECADCRCTYAVG</th>\n",
       "      <th>BECADINTDENS</th>\n",
       "      <th>BECADSTTDENS</th>\n",
       "      <th>BECADSTTLGAVG</th>\n",
       "      <th>BECADSTTPNODEAVG</th>\n",
       "      <th>TRANS_PROF</th>\n",
       "      <th>TRANS_PROB</th>\n",
       "      <th>URBAN_PROF</th>\n",
       "      <th>URBAN_PROB</th>\n",
       "      <th>LAT</th>\n",
       "      <th>LONG</th>\n",
       "    </tr>\n",
       "  </thead>\n",
       "  <tbody>\n",
       "    <tr>\n",
       "      <th>0</th>\n",
       "      <td>Buenos Aires</td>\n",
       "      <td>Bahía Blanca</td>\n",
       "      <td>Argentina</td>\n",
       "      <td>487</td>\n",
       "      <td>0.2131</td>\n",
       "      <td>77.6599</td>\n",
       "      <td>2644.8742</td>\n",
       "      <td>5.1337</td>\n",
       "      <td>76.6491</td>\n",
       "      <td>1.032761</td>\n",
       "      <td>3.672485</td>\n",
       "      <td>939.287799</td>\n",
       "      <td>144.004054</td>\n",
       "      <td>3.411006</td>\n",
       "      <td>4</td>\n",
       "      <td>0.993348</td>\n",
       "      <td>1</td>\n",
       "      <td>0.999270</td>\n",
       "      <td>-38.585317</td>\n",
       "      <td>-62.170625</td>\n",
       "    </tr>\n",
       "    <tr>\n",
       "      <th>1</th>\n",
       "      <td>Buenos Aires</td>\n",
       "      <td>Comuna 12</td>\n",
       "      <td>Argentina</td>\n",
       "      <td>1</td>\n",
       "      <td>0.0642</td>\n",
       "      <td>1557.1800</td>\n",
       "      <td>1557.1800</td>\n",
       "      <td>1.4735</td>\n",
       "      <td>0.0000</td>\n",
       "      <td>1.010627</td>\n",
       "      <td>102.376535</td>\n",
       "      <td>18590.830836</td>\n",
       "      <td>99.891610</td>\n",
       "      <td>3.619105</td>\n",
       "      <td>3</td>\n",
       "      <td>1.000000</td>\n",
       "      <td>4</td>\n",
       "      <td>1.000000</td>\n",
       "      <td>-34.568095</td>\n",
       "      <td>-58.491037</td>\n",
       "    </tr>\n",
       "    <tr>\n",
       "      <th>2</th>\n",
       "      <td>Buenos Aires</td>\n",
       "      <td>Comuna 13</td>\n",
       "      <td>Argentina</td>\n",
       "      <td>13</td>\n",
       "      <td>0.8836</td>\n",
       "      <td>1264.0834</td>\n",
       "      <td>1359.9129</td>\n",
       "      <td>2.5395</td>\n",
       "      <td>60.0462</td>\n",
       "      <td>1.026108</td>\n",
       "      <td>90.571453</td>\n",
       "      <td>16060.259206</td>\n",
       "      <td>98.454629</td>\n",
       "      <td>3.473831</td>\n",
       "      <td>1</td>\n",
       "      <td>1.000000</td>\n",
       "      <td>3</td>\n",
       "      <td>0.995172</td>\n",
       "      <td>-34.556446</td>\n",
       "      <td>-58.454729</td>\n",
       "    </tr>\n",
       "    <tr>\n",
       "      <th>3</th>\n",
       "      <td>Buenos Aires</td>\n",
       "      <td>Comuna 4</td>\n",
       "      <td>Argentina</td>\n",
       "      <td>8</td>\n",
       "      <td>0.3611</td>\n",
       "      <td>1990.2022</td>\n",
       "      <td>2091.1138</td>\n",
       "      <td>2.2122</td>\n",
       "      <td>67.1673</td>\n",
       "      <td>1.027101</td>\n",
       "      <td>79.577418</td>\n",
       "      <td>14502.014548</td>\n",
       "      <td>104.423094</td>\n",
       "      <td>3.361758</td>\n",
       "      <td>1</td>\n",
       "      <td>1.000000</td>\n",
       "      <td>4</td>\n",
       "      <td>0.580108</td>\n",
       "      <td>-34.643576</td>\n",
       "      <td>-58.388128</td>\n",
       "    </tr>\n",
       "    <tr>\n",
       "      <th>4</th>\n",
       "      <td>Buenos Aires</td>\n",
       "      <td>Comuna 6</td>\n",
       "      <td>Argentina</td>\n",
       "      <td>1</td>\n",
       "      <td>0.1460</td>\n",
       "      <td>684.9000</td>\n",
       "      <td>684.9000</td>\n",
       "      <td>1.2914</td>\n",
       "      <td>0.0000</td>\n",
       "      <td>1.005764</td>\n",
       "      <td>83.147041</td>\n",
       "      <td>15379.258560</td>\n",
       "      <td>106.145510</td>\n",
       "      <td>3.525963</td>\n",
       "      <td>1</td>\n",
       "      <td>1.000000</td>\n",
       "      <td>4</td>\n",
       "      <td>1.000000</td>\n",
       "      <td>-34.618734</td>\n",
       "      <td>-58.444319</td>\n",
       "    </tr>\n",
       "  </tbody>\n",
       "</table>\n",
       "</div>"
      ],
      "text/plain": [
       "             L1            L2    COUNTRY  BECNURBPTCH  BECPTCHDENS  \\\n",
       "0  Buenos Aires  Bahía Blanca  Argentina          487       0.2131   \n",
       "1  Buenos Aires     Comuna 12  Argentina            1       0.0642   \n",
       "2  Buenos Aires     Comuna 13  Argentina           13       0.8836   \n",
       "3  Buenos Aires      Comuna 4  Argentina            8       0.3611   \n",
       "4  Buenos Aires      Comuna 6  Argentina            1       0.1460   \n",
       "\n",
       "   BECEFFMESHSIZE  BECAWAVGPTCHAREA  BECAWMNSHPINDX  BECAWMNNNGH  \\\n",
       "0         77.6599         2644.8742          5.1337      76.6491   \n",
       "1       1557.1800         1557.1800          1.4735       0.0000   \n",
       "2       1264.0834         1359.9129          2.5395      60.0462   \n",
       "3       1990.2022         2091.1138          2.2122      67.1673   \n",
       "4        684.9000          684.9000          1.2914       0.0000   \n",
       "\n",
       "   BECADCRCTYAVG  BECADINTDENS  BECADSTTDENS  BECADSTTLGAVG  BECADSTTPNODEAVG  \\\n",
       "0       1.032761      3.672485    939.287799     144.004054          3.411006   \n",
       "1       1.010627    102.376535  18590.830836      99.891610          3.619105   \n",
       "2       1.026108     90.571453  16060.259206      98.454629          3.473831   \n",
       "3       1.027101     79.577418  14502.014548     104.423094          3.361758   \n",
       "4       1.005764     83.147041  15379.258560     106.145510          3.525963   \n",
       "\n",
       "   TRANS_PROF  TRANS_PROB  URBAN_PROF  URBAN_PROB        LAT       LONG  \n",
       "0           4    0.993348           1    0.999270 -38.585317 -62.170625  \n",
       "1           3    1.000000           4    1.000000 -34.568095 -58.491037  \n",
       "2           1    1.000000           3    0.995172 -34.556446 -58.454729  \n",
       "3           1    1.000000           4    0.580108 -34.643576 -58.388128  \n",
       "4           1    1.000000           4    1.000000 -34.618734 -58.444319  "
      ]
     },
     "execution_count": 6,
     "metadata": {},
     "output_type": "execute_result"
    }
   ],
   "source": [
    "l2.head()"
   ]
  },
  {
   "cell_type": "code",
   "execution_count": 29,
   "metadata": {},
   "outputs": [
    {
     "name": "stderr",
     "output_type": "stream",
     "text": [
      "C:\\Users\\fc.pena\\Anaconda3\\lib\\site-packages\\matplotlib\\axes\\_axes.py:6462: UserWarning: The 'normed' kwarg is deprecated, and has been replaced by the 'density' kwarg.\n",
      "  warnings.warn(\"The 'normed' kwarg is deprecated, and has been \"\n"
     ]
    },
    {
     "data": {
      "image/png": "[encoded data removed]",
      "text/plain": [
       "<Figure size 432x288 with 1 Axes>"
      ]
     },
     "metadata": {},
     "output_type": "display_data"
    }
   ],
   "source": [
    "ax = sns.distplot( l2[ 'BECADCRCTYAVG' ] )"
   ]
  },
  {
   "cell_type": "code",
   "execution_count": 11,
   "metadata": {},
   "outputs": [],
   "source": [
    "x,y = ax.get_lines()[0].get_data()"
   ]
  },
  {
   "cell_type": "code",
   "execution_count": 27,
   "metadata": {},
   "outputs": [
    {
     "data": {
      "text/plain": [
       "array([1.23117630e-04, 6.26222009e-04, 2.42804024e-03, 7.19581707e-03,\n",
       "       1.63899356e-02, 2.89496026e-02, 4.02491916e-02, 4.51192197e-02,\n",
       "       4.22986729e-02, 3.48995286e-02, 2.69617627e-02, 2.06572951e-02,\n",
       "       1.61611776e-02, 1.28526634e-02, 1.02814588e-02, 8.34203000e-03,\n",
       "       6.96621552e-03, 5.95537013e-03, 5.12458148e-03, 4.43896555e-03,\n",
       "       3.94012455e-03, 3.61656384e-03, 3.40314109e-03, 3.26508096e-03,\n",
       "       3.20721486e-03, 3.19903714e-03, 3.16685767e-03, 3.08217001e-03,\n",
       "       2.98125636e-03, 2.87042676e-03, 2.69111910e-03, 2.41617227e-03,\n",
       "       2.11968667e-03, 1.91716903e-03, 1.87127336e-03, 1.95583560e-03,\n",
       "       2.06517608e-03, 2.07627701e-03, 1.95573445e-03, 1.78107316e-03,\n",
       "       1.63199643e-03, 1.51086057e-03, 1.38296727e-03, 1.24482481e-03,\n",
       "       1.13822060e-03, 1.12090911e-03, 1.22061685e-03, 1.39600282e-03,\n",
       "       1.55134778e-03, 1.61427134e-03, 1.59477013e-03, 1.54749064e-03,\n",
       "       1.48298836e-03, 1.35170693e-03, 1.13289493e-03, 9.09278754e-04,\n",
       "       8.11039842e-04, 8.80039529e-04, 1.01648873e-03, 1.07545719e-03,\n",
       "       9.99381690e-04, 8.45112908e-04, 7.05205408e-04, 6.23256744e-04,\n",
       "       5.77580470e-04, 5.29397554e-04, 4.72650235e-04, 4.32334118e-04,\n",
       "       4.22446233e-04, 4.21744428e-04, 4.02550291e-04, 3.68430696e-04,\n",
       "       3.43737872e-04, 3.41006628e-04, 3.51841634e-04, 3.55181189e-04,\n",
       "       3.30284980e-04, 2.73340961e-04, 2.04929936e-04, 1.55761259e-04,\n",
       "       1.43875248e-04, 1.68863221e-04, 2.18679730e-04, 2.71545846e-04,\n",
       "       3.03402308e-04, 3.06141599e-04, 2.92692121e-04, 2.79159114e-04,\n",
       "       2.67791027e-04, 2.52711224e-04, 2.34822161e-04, 2.20836211e-04,\n",
       "       2.12263986e-04, 2.01892561e-04, 1.78891529e-04, 1.40333806e-04,\n",
       "       9.99893455e-05, 7.69058962e-05, 7.29799773e-05, 7.10124642e-05,\n",
       "       5.69516289e-05, 3.50309693e-05, 1.86363134e-05, 1.61509571e-05,\n",
       "       2.81174858e-05, 4.81302198e-05, 6.32850186e-05, 6.20561431e-05,\n",
       "       4.52859775e-05, 2.45998055e-05, 9.94588339e-06, 2.99149784e-06,\n",
       "       6.68820427e-07, 1.12255984e-07, 2.62535617e-08, 1.04487360e-07,\n",
       "       6.26058111e-07, 2.82614901e-06, 9.49821820e-06, 2.37828163e-05,\n",
       "       4.43679437e-05, 6.16349573e-05, 6.36779119e-05, 4.88459600e-05,\n",
       "       2.77794835e-05, 1.18581217e-05, 5.70073422e-06, 1.91669741e-05])"
      ]
     },
     "execution_count": 27,
     "metadata": {},
     "output_type": "execute_result"
    }
   ],
   "source": [
    "y"
   ]
  },
  {
   "cell_type": "code",
   "execution_count": null,
   "metadata": {},
   "outputs": [],
   "source": []
  }
 ],
 "metadata": {
  "kernelspec": {
   "display_name": "Python 3",
   "language": "python",
   "name": "python3"
  },
  "language_info": {
   "codemirror_mode": {
    "name": "ipython",
    "version": 3
   },
   "file_extension": ".py",
   "mimetype": "text/x-python",
   "name": "python",
   "nbconvert_exporter": "python",
   "pygments_lexer": "ipython3",
   "version": "3.6.5"
  }
 },
 "nbformat": 4,
 "nbformat_minor": 2
}
